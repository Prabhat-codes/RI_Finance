{
    "cells": [
        {
            "cell_type": "code",
            "execution_count": 1,
            "source": [
                "import numpy as np\n",
                "import pandas as pd"
            ],
            "outputs": [],
            "metadata": {}
        },
        {
            "cell_type": "code",
            "execution_count": 2,
            "source": [
                "def gbm(n_years = 1, n_scenarios=10, mu=0.07, sigma=0.15, steps_per_year=252*7*60, s_0=100.0, prices=True):\n",
                "    \"\"\"\n",
                "    Evolution of Geometric Brownian Motion trajectories, such as for Stock Prices through Monte Carlo\n",
                "    :param n_years:  The number of years to generate data for\n",
                "    :param n_paths: The number of scenarios/trajectories\n",
                "    :param mu: Annualized Drift, e.g. Market Return\n",
                "    :param sigma: Annualized Volatility\n",
                "    :param steps_per_year: granularity of the simulation\n",
                "    :param s_0: initial value\n",
                "    :return: a numpy array of n_paths columns and n_years*steps_per_year rows\n",
                "    \"\"\"\n",
                "    # Derive per-step Model Parameters from User Specifications\n",
                "    \n",
                "    dt = 1/steps_per_year\n",
                "    n_steps = int(n_years*steps_per_year) + 1\n",
                "    # the standard way ...\n",
                "    # rets_plus_1 = np.random.normal(loc=mu*dt+1, scale=sigma*np.sqrt(dt), size=(n_steps, n_scenarios))\n",
                "    # without discretization error ...\n",
                "    rets_plus_1 = np.random.normal(loc=(1+mu)**dt, scale=(sigma*np.sqrt(dt)), size=(n_steps, n_scenarios))\n",
                "    rets_plus_1[0] = 1\n",
                "    ret_val = s_0*pd.DataFrame(rets_plus_1).cumprod() if prices else rets_plus_1-1\n",
                "    return ret_val"
            ],
            "outputs": [],
            "metadata": {}
        },
        {
            "cell_type": "code",
            "execution_count": 3,
            "source": [
                "df=pd.DataFrame()\n",
                "df=gbm()"
            ],
            "outputs": [],
            "metadata": {}
        },
        {
            "cell_type": "code",
            "execution_count": 4,
            "source": [
                "df.head()"
            ],
            "outputs": [
                {
                    "output_type": "execute_result",
                    "data": {
                        "text/plain": [
                            "            0           1           2           3           4           5  \\\n",
                            "0  100.000000  100.000000  100.000000  100.000000  100.000000  100.000000   \n",
                            "1   99.973618   99.992559  100.007641   99.992146   99.984100   99.977384   \n",
                            "2  100.050459  100.002426  100.064202   99.883297  100.043914   99.928615   \n",
                            "3  100.040547  100.000703  100.046831   99.953250  100.091007   99.917841   \n",
                            "4  100.061746   99.945301  100.045701   99.881530  100.114138   99.904243   \n",
                            "\n",
                            "            6           7           8           9  \n",
                            "0  100.000000  100.000000  100.000000  100.000000  \n",
                            "1   99.969458   99.991288  100.063994  100.002796  \n",
                            "2   99.906292  100.039849  100.082713   99.920817  \n",
                            "3   99.911422   99.981823  100.079946   99.928017  \n",
                            "4   99.924171   99.981238  100.086262   99.958902  "
                        ],
                        "text/html": [
                            "<div>\n",
                            "<style scoped>\n",
                            "    .dataframe tbody tr th:only-of-type {\n",
                            "        vertical-align: middle;\n",
                            "    }\n",
                            "\n",
                            "    .dataframe tbody tr th {\n",
                            "        vertical-align: top;\n",
                            "    }\n",
                            "\n",
                            "    .dataframe thead th {\n",
                            "        text-align: right;\n",
                            "    }\n",
                            "</style>\n",
                            "<table border=\"1\" class=\"dataframe\">\n",
                            "  <thead>\n",
                            "    <tr style=\"text-align: right;\">\n",
                            "      <th></th>\n",
                            "      <th>0</th>\n",
                            "      <th>1</th>\n",
                            "      <th>2</th>\n",
                            "      <th>3</th>\n",
                            "      <th>4</th>\n",
                            "      <th>5</th>\n",
                            "      <th>6</th>\n",
                            "      <th>7</th>\n",
                            "      <th>8</th>\n",
                            "      <th>9</th>\n",
                            "    </tr>\n",
                            "  </thead>\n",
                            "  <tbody>\n",
                            "    <tr>\n",
                            "      <th>0</th>\n",
                            "      <td>100.000000</td>\n",
                            "      <td>100.000000</td>\n",
                            "      <td>100.000000</td>\n",
                            "      <td>100.000000</td>\n",
                            "      <td>100.000000</td>\n",
                            "      <td>100.000000</td>\n",
                            "      <td>100.000000</td>\n",
                            "      <td>100.000000</td>\n",
                            "      <td>100.000000</td>\n",
                            "      <td>100.000000</td>\n",
                            "    </tr>\n",
                            "    <tr>\n",
                            "      <th>1</th>\n",
                            "      <td>99.973618</td>\n",
                            "      <td>99.992559</td>\n",
                            "      <td>100.007641</td>\n",
                            "      <td>99.992146</td>\n",
                            "      <td>99.984100</td>\n",
                            "      <td>99.977384</td>\n",
                            "      <td>99.969458</td>\n",
                            "      <td>99.991288</td>\n",
                            "      <td>100.063994</td>\n",
                            "      <td>100.002796</td>\n",
                            "    </tr>\n",
                            "    <tr>\n",
                            "      <th>2</th>\n",
                            "      <td>100.050459</td>\n",
                            "      <td>100.002426</td>\n",
                            "      <td>100.064202</td>\n",
                            "      <td>99.883297</td>\n",
                            "      <td>100.043914</td>\n",
                            "      <td>99.928615</td>\n",
                            "      <td>99.906292</td>\n",
                            "      <td>100.039849</td>\n",
                            "      <td>100.082713</td>\n",
                            "      <td>99.920817</td>\n",
                            "    </tr>\n",
                            "    <tr>\n",
                            "      <th>3</th>\n",
                            "      <td>100.040547</td>\n",
                            "      <td>100.000703</td>\n",
                            "      <td>100.046831</td>\n",
                            "      <td>99.953250</td>\n",
                            "      <td>100.091007</td>\n",
                            "      <td>99.917841</td>\n",
                            "      <td>99.911422</td>\n",
                            "      <td>99.981823</td>\n",
                            "      <td>100.079946</td>\n",
                            "      <td>99.928017</td>\n",
                            "    </tr>\n",
                            "    <tr>\n",
                            "      <th>4</th>\n",
                            "      <td>100.061746</td>\n",
                            "      <td>99.945301</td>\n",
                            "      <td>100.045701</td>\n",
                            "      <td>99.881530</td>\n",
                            "      <td>100.114138</td>\n",
                            "      <td>99.904243</td>\n",
                            "      <td>99.924171</td>\n",
                            "      <td>99.981238</td>\n",
                            "      <td>100.086262</td>\n",
                            "      <td>99.958902</td>\n",
                            "    </tr>\n",
                            "  </tbody>\n",
                            "</table>\n",
                            "</div>"
                        ]
                    },
                    "metadata": {},
                    "execution_count": 4
                }
            ],
            "metadata": {}
        },
        {
            "cell_type": "code",
            "execution_count": 6,
            "source": [
                "for i in df.rows:\n",
                "    if i.index%15==0:\n",
                "        df.drop(i.index,inplace=True)\n",
                "df"
            ],
            "outputs": [
                {
                    "output_type": "error",
                    "ename": "AttributeError",
                    "evalue": "'DataFrame' object has no attribute 'rows'",
                    "traceback": [
                        "\u001b[0;31m---------------------------------------------------------------------------\u001b[0m",
                        "\u001b[0;31mAttributeError\u001b[0m                            Traceback (most recent call last)",
                        "\u001b[0;32m<ipython-input-6-ab953c5a40fc>\u001b[0m in \u001b[0;36m<module>\u001b[0;34m\u001b[0m\n\u001b[0;32m----> 1\u001b[0;31m \u001b[0;32mfor\u001b[0m \u001b[0mi\u001b[0m \u001b[0;32min\u001b[0m \u001b[0mdf\u001b[0m\u001b[0;34m.\u001b[0m\u001b[0mrows\u001b[0m\u001b[0;34m:\u001b[0m\u001b[0;34m\u001b[0m\u001b[0;34m\u001b[0m\u001b[0m\n\u001b[0m\u001b[1;32m      2\u001b[0m     \u001b[0;32mif\u001b[0m \u001b[0mi\u001b[0m\u001b[0;34m.\u001b[0m\u001b[0mindex\u001b[0m\u001b[0;34m%\u001b[0m\u001b[0;36m15\u001b[0m\u001b[0;34m==\u001b[0m\u001b[0;36m0\u001b[0m\u001b[0;34m:\u001b[0m\u001b[0;34m\u001b[0m\u001b[0;34m\u001b[0m\u001b[0m\n\u001b[1;32m      3\u001b[0m         \u001b[0mdf\u001b[0m\u001b[0;34m.\u001b[0m\u001b[0mdrop\u001b[0m\u001b[0;34m(\u001b[0m\u001b[0mi\u001b[0m\u001b[0;34m.\u001b[0m\u001b[0mindex\u001b[0m\u001b[0;34m,\u001b[0m\u001b[0minplace\u001b[0m\u001b[0;34m=\u001b[0m\u001b[0;32mTrue\u001b[0m\u001b[0;34m)\u001b[0m\u001b[0;34m\u001b[0m\u001b[0;34m\u001b[0m\u001b[0m\n\u001b[1;32m      4\u001b[0m \u001b[0mdf\u001b[0m\u001b[0;34m\u001b[0m\u001b[0;34m\u001b[0m\u001b[0m\n",
                        "\u001b[0;32m~/.local/lib/python3.6/site-packages/pandas/core/generic.py\u001b[0m in \u001b[0;36m__getattr__\u001b[0;34m(self, name)\u001b[0m\n\u001b[1;32m   5272\u001b[0m             \u001b[0;32mif\u001b[0m \u001b[0mself\u001b[0m\u001b[0;34m.\u001b[0m\u001b[0m_info_axis\u001b[0m\u001b[0;34m.\u001b[0m\u001b[0m_can_hold_identifiers_and_holds_name\u001b[0m\u001b[0;34m(\u001b[0m\u001b[0mname\u001b[0m\u001b[0;34m)\u001b[0m\u001b[0;34m:\u001b[0m\u001b[0;34m\u001b[0m\u001b[0;34m\u001b[0m\u001b[0m\n\u001b[1;32m   5273\u001b[0m                 \u001b[0;32mreturn\u001b[0m \u001b[0mself\u001b[0m\u001b[0;34m[\u001b[0m\u001b[0mname\u001b[0m\u001b[0;34m]\u001b[0m\u001b[0;34m\u001b[0m\u001b[0;34m\u001b[0m\u001b[0m\n\u001b[0;32m-> 5274\u001b[0;31m             \u001b[0;32mreturn\u001b[0m \u001b[0mobject\u001b[0m\u001b[0;34m.\u001b[0m\u001b[0m__getattribute__\u001b[0m\u001b[0;34m(\u001b[0m\u001b[0mself\u001b[0m\u001b[0;34m,\u001b[0m \u001b[0mname\u001b[0m\u001b[0;34m)\u001b[0m\u001b[0;34m\u001b[0m\u001b[0;34m\u001b[0m\u001b[0m\n\u001b[0m\u001b[1;32m   5275\u001b[0m \u001b[0;34m\u001b[0m\u001b[0m\n\u001b[1;32m   5276\u001b[0m     \u001b[0;32mdef\u001b[0m \u001b[0m__setattr__\u001b[0m\u001b[0;34m(\u001b[0m\u001b[0mself\u001b[0m\u001b[0;34m,\u001b[0m \u001b[0mname\u001b[0m\u001b[0;34m:\u001b[0m \u001b[0mstr\u001b[0m\u001b[0;34m,\u001b[0m \u001b[0mvalue\u001b[0m\u001b[0;34m)\u001b[0m \u001b[0;34m->\u001b[0m \u001b[0;32mNone\u001b[0m\u001b[0;34m:\u001b[0m\u001b[0;34m\u001b[0m\u001b[0;34m\u001b[0m\u001b[0m\n",
                        "\u001b[0;31mAttributeError\u001b[0m: 'DataFrame' object has no attribute 'rows'"
                    ]
                }
            ],
            "metadata": {}
        },
        {
            "cell_type": "code",
            "execution_count": null,
            "source": [],
            "outputs": [],
            "metadata": {}
        }
    ],
    "metadata": {
        "orig_nbformat": 4,
        "language_info": {
            "name": "python",
            "version": "3.6.9",
            "mimetype": "text/x-python",
            "codemirror_mode": {
                "name": "ipython",
                "version": 3
            },
            "pygments_lexer": "ipython3",
            "nbconvert_exporter": "python",
            "file_extension": ".py"
        },
        "kernelspec": {
            "name": "python3",
            "display_name": "Python 3.6.9 64-bit"
        },
        "interpreter": {
            "hash": "31f2aee4e71d21fbe5cf8b01ff0e069b9275f58929596ceb00d14d90e3e16cd6"
        }
    },
    "nbformat": 4,
    "nbformat_minor": 2
}